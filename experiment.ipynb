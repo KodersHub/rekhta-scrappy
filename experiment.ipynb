{
 "cells": [
  {
   "cell_type": "code",
   "execution_count": 2,
   "metadata": {},
   "outputs": [
    {
     "name": "stdout",
     "output_type": "stream",
     "text": [
      "Collecting flask_restful\n",
      "  Using cached Flask_RESTful-0.3.8-py2.py3-none-any.whl (25 kB)\n",
      "Collecting Flask>=0.8\n",
      "  Using cached Flask-1.1.2-py2.py3-none-any.whl (94 kB)\n",
      "Requirement already satisfied: six>=1.3.0 in /home/furqan/.pyenv/versions/3.8.5/envs/jupyter3/lib/python3.8/site-packages (from flask_restful) (1.15.0)\n",
      "Collecting aniso8601>=0.82\n",
      "  Using cached aniso8601-8.1.0-py2.py3-none-any.whl (44 kB)\n",
      "Requirement already satisfied: pytz in /home/furqan/.pyenv/versions/3.8.5/envs/jupyter3/lib/python3.8/site-packages (from flask_restful) (2020.4)\n",
      "Requirement already satisfied: Werkzeug>=0.15 in /home/furqan/.pyenv/versions/3.8.5/envs/jupyter3/lib/python3.8/site-packages (from Flask>=0.8->flask_restful) (1.0.1)\n",
      "Requirement already satisfied: Jinja2>=2.10.1 in /home/furqan/.pyenv/versions/3.8.5/envs/jupyter3/lib/python3.8/site-packages (from Flask>=0.8->flask_restful) (2.11.2)\n",
      "Collecting itsdangerous>=0.24\n",
      "  Using cached itsdangerous-1.1.0-py2.py3-none-any.whl (16 kB)\n",
      "Requirement already satisfied: click>=5.1 in /home/furqan/.pyenv/versions/3.8.5/envs/jupyter3/lib/python3.8/site-packages (from Flask>=0.8->flask_restful) (7.1.2)\n",
      "Requirement already satisfied: MarkupSafe>=0.23 in /home/furqan/.pyenv/versions/3.8.5/envs/jupyter3/lib/python3.8/site-packages (from Jinja2>=2.10.1->Flask>=0.8->flask_restful) (1.1.1)\n",
      "Installing collected packages: itsdangerous, Flask, aniso8601, flask-restful\n",
      "Successfully installed Flask-1.1.2 aniso8601-8.1.0 flask-restful-0.3.8 itsdangerous-1.1.0\n",
      "\u001b[33mWARNING: You are using pip version 20.1.1; however, version 20.3.3 is available.\n",
      "You should consider upgrading via the '/home/furqan/.pyenv/versions/3.8.5/envs/jupyter3/bin/python3.8 -m pip install --upgrade pip' command.\u001b[0m\n"
     ]
    }
   ],
   "source": [
    "!pip install flask_restful\n",
    "!pip install "
   ]
  },
  {
   "cell_type": "code",
   "execution_count": 2,
   "metadata": {},
   "outputs": [],
   "source": [
    "# A way to import \n",
    "import sys\n",
    "# insert at 1, 0 is the script path (or '' in REPL)\n",
    "sys.path.insert(1, '/home/furqan/.pyenv/versions/3.8.5/lib/python3.8/site-packages')"
   ]
  },
  {
   "cell_type": "code",
   "execution_count": 3,
   "metadata": {},
   "outputs": [],
   "source": [
    "from flask import Flask, render_template, url_for, request, jsonify, make_response, flash, redirect\n",
    "from flask_restful import Api, Resource\n",
    "import time\n",
    "import csv\n",
    "from selenium.webdriver.common.action_chains import ActionChains\n",
    "from selenium.webdriver.chrome.options import Options\n",
    "import requests\n",
    "import re\n",
    "import os\n",
    "from selenium import webdriver\n",
    "from bs4 import BeautifulSoup\n",
    "\n",
    "app = Flask(__name__)\n",
    "api = Api(app)\n",
    "\n",
    "options = Options()\n",
    "# options.add_argument('--headless')\n",
    "options.add_argument('--profile-directory=Default') \n",
    "ch_path = os.getcwd() + \"/chromedriver\"\n",
    "driver = webdriver.Chrome(options=options,executable_path=ch_path)\n",
    "\n",
    "# driver = webdriver.Chrome(\"chromedriver.exe\")\n",
    "# poet_link = \"https://www.rekhta.org/poets/mirza-ghalib/ghazals\"\n",
    "\n",
    "def download_html(driver, poet_link):\n",
    "    driver.get(poet_link)\n",
    "        \n",
    "    ### SCROLLING SHUGAL START HERE!\n",
    "    SCROLL_PAUSE_TIME = 0.5\n",
    "\n",
    "    ## Get scroll height\n",
    "    last_height = driver.execute_script(\"return document.body.scrollHeight\")\n",
    "\n",
    "    while True:\n",
    "        # Scroll down to bottom\n",
    "        driver.execute_script(\"window.scrollTo(0, document.body.scrollHeight);\")\n",
    "\n",
    "        # Wait to load page\n",
    "        time.sleep(SCROLL_PAUSE_TIME)\n",
    "\n",
    "        # Calculate new scroll height and compare with last scroll height\n",
    "        new_height = driver.execute_script(\"return document.body.scrollHeight\")\n",
    "        if new_height == last_height:\n",
    "            break\n",
    "        last_height = new_height\n",
    "        file = open(\"Ghalib.html\", 'w')\n",
    "        file.write(driver.page_source)\n",
    "        file.close()\n",
    "\n",
    "\n",
    "def writing_txt(driver):\n",
    "    CHANGE_TIME = 1.0\n",
    "        \n",
    "    page = open('Ghalib.html', 'r')\n",
    "    soup = BeautifulSoup(page, 'html.parser')\n",
    "    page.close()\n",
    "    info = soup.findAll('div', {'class': 'contentListItems nwPoetListBody'})\n",
    "\n",
    "    links = []\n",
    "    for each_business in info:\n",
    "        # Your Fix here\n",
    "        for a in each_business.find_all('a', href=True):\n",
    "            links.append(a['href'])\n",
    "            \n",
    "    links_url = list(set(links))\n",
    "    print(\"Total Ghazals: \", len(links_url))\n",
    "\n",
    "    data = open(\"dataset.txt\", 'w', encoding=\"utf-8\")\n",
    "\n",
    "    for i in range(len(links_url)):\n",
    "        driver.get(links_url[i])\n",
    "        ghazal_content = driver.find_elements_by_xpath('//div[@class=\"pMC showTranslation\"]')\n",
    "        time.sleep(CHANGE_TIME)\n",
    "        if not ghazal_content:\n",
    "            print(\"Empty\")\n",
    "        else:\n",
    "            data.write(ghazal_content[0].text)\n",
    "            \n",
    "\n",
    "    data.close()        \n",
    "    driver.close()\n",
    "\n",
    "\n"
   ]
  },
  {
   "cell_type": "code",
   "execution_count": 4,
   "metadata": {},
   "outputs": [
    {
     "name": "stdout",
     "output_type": "stream",
     "text": [
      "Total Ghazals:  50\n"
     ]
    }
   ],
   "source": [
    "\n",
    "\n",
    "poet_link = \"https://www.rekhta.org/poets/mirza-ghalib/ghazals\"\n",
    "\n",
    "download_html(driver, poet_link)\n",
    "\n",
    "writing_txt(driver)\n",
    "\n",
    "with open('dataset.txt', 'r', encoding=\"utf-8\") as f:\n",
    "    b_lines = [ row for row in f ]             \n",
    "\n"
   ]
  },
  {
   "cell_type": "code",
   "execution_count": null,
   "metadata": {},
   "outputs": [],
   "source": []
  },
  {
   "cell_type": "code",
   "execution_count": null,
   "metadata": {},
   "outputs": [],
   "source": []
  },
  {
   "cell_type": "code",
   "execution_count": null,
   "metadata": {},
   "outputs": [],
   "source": []
  },
  {
   "cell_type": "code",
   "execution_count": null,
   "metadata": {},
   "outputs": [],
   "source": []
  },
  {
   "cell_type": "code",
   "execution_count": null,
   "metadata": {},
   "outputs": [],
   "source": []
  }
 ],
 "metadata": {
  "kernelspec": {
   "display_name": "Python 3.8.2 64-bit",
   "language": "python",
   "name": "python38264bit90bddfd6fd144424a8324781943f924b"
  },
  "language_info": {
   "codemirror_mode": {
    "name": "ipython",
    "version": 3
   },
   "file_extension": ".py",
   "mimetype": "text/x-python",
   "name": "python",
   "nbconvert_exporter": "python",
   "pygments_lexer": "ipython3",
   "version": "3.8.5"
  }
 },
 "nbformat": 4,
 "nbformat_minor": 4
}
